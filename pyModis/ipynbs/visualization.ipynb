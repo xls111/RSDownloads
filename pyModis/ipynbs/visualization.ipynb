{
 "cells": [
  {
   "cell_type": "code",
   "execution_count": 3,
   "metadata": {},
   "outputs": [],
   "source": [
    "from pathlib import Path\n",
    "import numpy as np\n",
    " \n",
    "import matplotlib.pyplot as plt\n",
    "from matplotlib import cm, colors\n",
    " \n",
    "import seaborn as sns\n",
    "import cartopy.crs as ccrs\n",
    "from cartopy.mpl.ticker import LongitudeFormatter, LatitudeFormatter\n",
    " \n",
    "from pyhdf.SD import SD, SDC"
   ]
  },
  {
   "cell_type": "code",
   "execution_count": 9,
   "metadata": {},
   "outputs": [
    {
     "name": "stdout",
     "output_type": "stream",
     "text": [
      "文件中的数据集:\n",
      "0: LST_Day_1km\n",
      "1: QC_Day\n",
      "2: Day_view_time\n",
      "3: Day_view_angl\n",
      "4: LST_Night_1km\n",
      "5: QC_Night\n",
      "6: Night_view_time\n",
      "7: Night_view_angl\n",
      "8: Emis_31\n",
      "9: Emis_32\n",
      "10: Clear_day_cov\n",
      "11: Clear_night_cov\n"
     ]
    }
   ],
   "source": [
    "data_dir = r\"H:\\Temp\\Downloads\"\n",
    "\n",
    "data_fp1 = str(Path(data_dir) / \"MOD11A1.A2025036.h18v03.061.2025038010914.hdf\")\n",
    "\n",
    "sns.set_context('talk', font_scale=1.3)\n",
    " \n",
    "# 打开 HDF4 文件\n",
    "hdf_file = SD(data_fp1, SDC.READ)\n",
    "\n",
    "# 查看文件中的数据集\n",
    "datasets = hdf_file.datasets()\n",
    "print(\"文件中的数据集:\")\n",
    "for idx, dataset in enumerate(datasets):\n",
    "    print(f\"{idx}: {dataset}\")"
   ]
  },
  {
   "cell_type": "code",
   "execution_count": null,
   "metadata": {},
   "outputs": [],
   "source": [
    "lon = data.select('Longitude')\n",
    "lat = data.select('Latitude')\n",
    "flash = data.select('LRMTS_COM_FR')\n",
    " \n",
    "# 设置colormap\n",
    "collev= ['#ffffff', '#ab18b0', '#07048f', '#1ba01f', '#dfdf18', '#e88f14', '#c87d23', '#d30001', '#383838']\n",
    "levels = [0, 0.01, 0.02, 0.04, 0.06, 0.1, 0.12, 0.15, 0.18, 0.2]\n",
    "cmaps = colors.ListedColormap(collev, 'indexed')\n",
    "norm = colors.BoundaryNorm(levels, cmaps.N)\n",
    " \n",
    "proj = ccrs.PlateCarree()\n",
    " \n",
    "fig, ax = plt.subplots(figsize=(16, 9), subplot_kw=dict(projection=proj))\n",
    " \n",
    "LON, LAT= np.meshgrid(lon[:], lat[:])\n",
    " \n",
    "con = ax.contourf(LON, LAT, flash[:, :, 150], cmap=cmaps, norm=norm, levels=levels, extend='max')\n",
    " \n",
    "cb = fig.colorbar(con, shrink=0.75, pad=0.02)\n",
    "cb.cmap.set_over('#000000')\n",
    "cb.ax.tick_params(direction='in', length=5)\n",
    " \n",
    "ax.coastlines()\n",
    " \n",
    "ax.set_xticks(np.linspace(-180, 180, 5), crs=proj)\n",
    "ax.set_yticks(np.linspace(-90, 90, 5), crs=proj)\n",
    " \n",
    "lon_formatter= LongitudeFormatter(zero_direction_label=True)\n",
    "lat_formatter= LatitudeFormatter()\n",
    " \n",
    "ax.xaxis.set_major_formatter(lon_formatter)\n",
    "ax.yaxis.set_major_formatter(lat_formatter)"
   ]
  }
 ],
 "metadata": {
  "kernelspec": {
   "display_name": "xanylabel",
   "language": "python",
   "name": "python3"
  },
  "language_info": {
   "codemirror_mode": {
    "name": "ipython",
    "version": 3
   },
   "file_extension": ".py",
   "mimetype": "text/x-python",
   "name": "python",
   "nbconvert_exporter": "python",
   "pygments_lexer": "ipython3",
   "version": "3.9.18"
  }
 },
 "nbformat": 4,
 "nbformat_minor": 2
}
